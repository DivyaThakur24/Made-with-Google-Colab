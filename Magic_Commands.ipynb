{
  "nbformat": 4,
  "nbformat_minor": 0,
  "metadata": {
    "colab": {
      "name": "Magic Commands.ipynb",
      "version": "0.3.2",
      "provenance": [],
      "include_colab_link": true
    },
    "kernelspec": {
      "name": "python3",
      "display_name": "Python 3"
    }
  },
  "cells": [
    {
      "cell_type": "markdown",
      "metadata": {
        "id": "view-in-github",
        "colab_type": "text"
      },
      "source": [
        "<a href=\"https://colab.research.google.com/github/DivyaThakur24/Made-with-Google-Colab/blob/master/Magic_Commands.ipynb\" target=\"_parent\"><img src=\"https://colab.research.google.com/assets/colab-badge.svg\" alt=\"Open In Colab\"/></a>"
      ]
    },
    {
      "metadata": {
        "id": "pKCTD-AoFvA2",
        "colab_type": "code",
        "colab": {
          "base_uri": "https://localhost:8080/",
          "height": 35
        },
        "outputId": "7209e26e-ed15-4aa5-bfe2-63ca948ab979"
      },
      "cell_type": "code",
      "source": [
        "%timeit 3 + 1"
      ],
      "execution_count": 1,
      "outputs": [
        {
          "output_type": "stream",
          "text": [
            "10000000 loops, best of 3: 20.3 ns per loop\n"
          ],
          "name": "stdout"
        }
      ]
    },
    {
      "metadata": {
        "id": "-MOjTJjvGvk8",
        "colab_type": "code",
        "colab": {
          "base_uri": "https://localhost:8080/",
          "height": 35
        },
        "outputId": "1e928587-262b-4e97-ab3d-2507808a650f"
      },
      "cell_type": "code",
      "source": [
        "%%timeit\n",
        "def sum(a,b):\n",
        "  return a + b\n",
        "\n",
        "sum(3,1)"
      ],
      "execution_count": 2,
      "outputs": [
        {
          "output_type": "stream",
          "text": [
            "1000000 loops, best of 3: 259 ns per loop\n"
          ],
          "name": "stdout"
        }
      ]
    },
    {
      "metadata": {
        "id": "FU5Ex2KGHBMT",
        "colab_type": "text"
      },
      "cell_type": "markdown",
      "source": [
        "LIST COMPREHENSION"
      ]
    },
    {
      "metadata": {
        "id": "pXQsko4cG71n",
        "colab_type": "code",
        "colab": {
          "base_uri": "https://localhost:8080/",
          "height": 35
        },
        "outputId": "7e1e78fb-01a1-4a84-824e-f104d2b1e7ef"
      },
      "cell_type": "code",
      "source": [
        "%timeit a = [4 + i for i in range(1000)]"
      ],
      "execution_count": 3,
      "outputs": [
        {
          "output_type": "stream",
          "text": [
            "10000 loops, best of 3: 74.6 µs per loop\n"
          ],
          "name": "stdout"
        }
      ]
    },
    {
      "metadata": {
        "id": "N3tY-Xu7HPoW",
        "colab_type": "text"
      },
      "cell_type": "markdown",
      "source": [
        "LIST USING FOR LOOP"
      ]
    },
    {
      "metadata": {
        "id": "T8rGdHSCHK9H",
        "colab_type": "code",
        "colab": {
          "base_uri": "https://localhost:8080/",
          "height": 35
        },
        "outputId": "08a29504-7f50-4ef8-f570-565af76d174a"
      },
      "cell_type": "code",
      "source": [
        "%%timeit\n",
        "a = []\n",
        "def list_new():\n",
        "  for i in range(1000):\n",
        "    a.append(4 + i)\n",
        "    \n",
        "list_new()"
      ],
      "execution_count": 4,
      "outputs": [
        {
          "output_type": "stream",
          "text": [
            "10000 loops, best of 3: 141 µs per loop\n"
          ],
          "name": "stdout"
        }
      ]
    },
    {
      "metadata": {
        "id": "T6F6woDUIV1H",
        "colab_type": "code",
        "colab": {},
        "cellView": "code"
      },
      "cell_type": "code",
      "source": [
        ""
      ],
      "execution_count": 0,
      "outputs": []
    },
    {
      "metadata": {
        "id": "PGBNB926JBzX",
        "colab_type": "code",
        "colab": {}
      },
      "cell_type": "code",
      "source": [
        ""
      ],
      "execution_count": 0,
      "outputs": []
    }
  ]
}